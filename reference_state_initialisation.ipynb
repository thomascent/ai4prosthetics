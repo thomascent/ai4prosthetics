{
 "cells": [
  {
   "cell_type": "code",
   "execution_count": 6,
   "metadata": {
    "scrolled": false
   },
   "outputs": [],
   "source": [
    "# from osim.env import ProstheticsEnv\n",
    "# import opensim\n",
    "from pyquaternion import Quaternion\n",
    "import matplotlib.pyplot as plt\n",
    "import numpy as np\n",
    "import math as m\n",
    "from bvh import Bvh\n",
    "import matplotlib\n",
    "import gym\n",
    "import random as r\n",
    "r.seed()"
   ]
  },
  {
   "cell_type": "code",
   "execution_count": 91,
   "metadata": {
    "scrolled": true
   },
   "outputs": [],
   "source": [
    "class ReferenceMotion:\n",
    "    def __init__(self, filename, period, offset):\n",
    "        with open(filename) as f:\n",
    "            mocap = Bvh(f.read())\n",
    "        \n",
    "        self.mocap = mocap\n",
    "        self.period = period\n",
    "        self.offset = offset\n",
    "\n",
    "        joints = {}\n",
    "        joints['knee_l'] = mocap.frames_joint_channels('LeftLeg',['Xrotation'])\n",
    "        joints['knee_r'] = mocap.frames_joint_channels('RightLeg',['Xrotation'])\n",
    "#         joints['ankle_l'] = mocap.frames_joint_channels('LeftFoot',['Xrotation'])\n",
    "        joints['hip_l'] = mocap.frames_joint_channels('LeftUpLeg',['Xrotation', 'Yrotation', 'Zrotation'])\n",
    "        joints['hip_r'] = mocap.frames_joint_channels('RightUpLeg',['Xrotation', 'Yrotation', 'Zrotation'])\n",
    "\n",
    "        self.joints = {k: [[m.radians(-e) for e in l] for l in v][self.offset:self.offset+self.period] for (k, v) in joints.items() }\n",
    "        \n",
    "        self.joints['phase'] = [(i) / self.period for i in range(self.period)]\n",
    "        \n",
    "    def __getitem__(self, frame):\n",
    "        return {k: v[frame] for (k, v) in self.joints.items()}\n",
    "\n",
    "    def __iter__(self):\n",
    "        for frame in range(self.period):\n",
    "            yield {k: v[frame] for (k, v) in self.joints.items()}\n",
    "    \n",
    "    def __len__(self):\n",
    "        return self.period"
   ]
  },
  {
   "cell_type": "code",
   "execution_count": 92,
   "metadata": {},
   "outputs": [],
   "source": [
    "class ReferenceMotionWrapper(gym.Wrapper):\n",
    "    def __init__(self, env, motion_file, period=89, offset=31, omega=1., rsi=False):\n",
    "        super(ReferenceMotionWrapper, self).__init__(env)\n",
    "\n",
    "        env_obs_shape = env.observation_space.shape[0]\n",
    "        self.observation_space = gym.spaces.Box(low=np.zeros([env_obs_shape+1,]), high=np.zeros([env_obs_shape+1,]), dtype=np.float32)       \n",
    "        \n",
    "        self.motion = ReferenceMotion(motion_file, period=period, offset=offset)\n",
    "        self.frame = 0\n",
    "        self.omega = omega\n",
    "        self.rsi = rsi\n",
    "\n",
    "    def step(self, action, **kwargs):\n",
    "        observation, reward, done, info = self.env.step(action, **kwargs)\n",
    "        observation, reward = self.observation(observation), self.reward(reward)\n",
    "        \n",
    "        idx = np.argmax([self.calculate_similarity(frame, self.env.get_state_desc()['joint_pos']) for frame in self.motion])\n",
    "        self.frame = (idx + 1) % len(self.motion) # set the target frame to the nearest state + 1, might want to rate limit this at some point\n",
    "        print([self.calculate_similarity(frame, self.env.get_state_desc()['joint_pos']) for frame in self.motion])\n",
    "        return observation, reward, done, info\n",
    "\n",
    "    def reset(self, project=True, **kwargs):\n",
    "        observation = self.env.reset(project, **kwargs)\n",
    "        \n",
    "        if self.rsi:\n",
    "            self.frame = r.randint(0,len(self.motion)-1)\n",
    "            self.set_state_desc(self.motion[self.frame])\n",
    "            self.env.osim_model.model.equilibrateMuscles(self.env.osim_model.get_state())\n",
    "            self.env.osim_model.state_desc_istep = None\n",
    "\n",
    "            if project:\n",
    "                observation = self.env.get_observation()\n",
    "            else:\n",
    "                observation = self.env.get_state_desc()\n",
    "    \n",
    "        return self.observation(observation)\n",
    "\n",
    "    def observation(self, observation):\n",
    "        if isinstance(observation, dict):\n",
    "            observation['phase'] = self.frame / len(self.motion)\n",
    "        elif isinstance(observation, list):\n",
    "            observation += [self.frame / len(self.motion)]\n",
    "\n",
    "        return observation\n",
    "\n",
    "    def reward(self, reward):\n",
    "        reward += self.calculate_similarity(self.motion[self.frame], self.env.get_state_desc()['joint_pos']) * self.omega\n",
    "        return reward\n",
    "\n",
    "    def calculate_similarity(self, ref_state_desc, curr_state_desc):\n",
    "        ref = set(ref_state_desc)\n",
    "        curr = set(curr_state_desc)\n",
    "        return np.mean([np.mean(np.cos(np.subtract(ref_state_desc[name], curr_state_desc[name]))) for name in ref.intersection(curr)])\n",
    "\n",
    "    def set_state_desc(self, state_desc):\n",
    "        state = self.env.osim_model.get_state()\n",
    "\n",
    "        for joint in self.env.osim_model.model.getJointSet():\n",
    "            name = joint.getName()\n",
    "            if name in state_desc.keys():\n",
    "                [joint.get_coordinates(i).setValue(state, state_desc[name][i]) for i in range(joint.numCoordinates())]\n",
    "\n",
    "        self.env.osim_model.set_state(state)"
   ]
  },
  {
   "cell_type": "code",
   "execution_count": null,
   "metadata": {},
   "outputs": [],
   "source": [
    "env = ProstheticsEnv(visualize=True)\n",
    "wrapped_env = ReferenceMotionWrapper(env, omega=1., motion_file='mocap_data/running_guy_keyframes.bvh', period=6, offset=0)\n",
    "observation = wrapped_env.reset(project=False)"
   ]
  },
  {
   "cell_type": "code",
   "execution_count": null,
   "metadata": {
    "scrolled": false
   },
   "outputs": [],
   "source": [
    "for j in range(1):\n",
    "    observation, reward, done, info = wrapped_env.step(wrapped_env.action_space.sample(), project=False)\n",
    "    print(wrapped_env.frame, wrapped_env.reward(0.))\n",
    "    if done: break"
   ]
  },
  {
   "cell_type": "markdown",
   "metadata": {},
   "source": [
    "# Let's try this in roboschool first, at least that way I can get results more quickly"
   ]
  },
  {
   "cell_type": "code",
   "execution_count": 2,
   "metadata": {},
   "outputs": [],
   "source": [
    "import roboschool\n",
    "import gym"
   ]
  },
  {
   "cell_type": "code",
   "execution_count": 3,
   "metadata": {
    "scrolled": true
   },
   "outputs": [
    {
     "name": "stdout",
     "output_type": "stream",
     "text": [
      "\u001b[33mWARN: gym.spaces.Box autodetected dtype as <class 'numpy.float32'>. Please provide explicit dtype.\u001b[0m\n",
      "\u001b[33mWARN: gym.spaces.Box autodetected dtype as <class 'numpy.float32'>. Please provide explicit dtype.\u001b[0m\n",
      "\u001b[33mWARN: Environment '<class 'roboschool.gym_mujoco_walkers.RoboschoolHumanoid'>' has deprecated methods '_step' and '_reset' rather than 'step' and 'reset'. Compatibility code invoked. Set _gym_disable_underscore_compat = True to disable this behavior.\u001b[0m\n"
     ]
    }
   ],
   "source": [
    "env = gym.make('RoboschoolHumanoid-v1')"
   ]
  },
  {
   "cell_type": "code",
   "execution_count": null,
   "metadata": {},
   "outputs": [],
   "source": [
    "env.reset()\n",
    "\n",
    "env.render()\n",
    "env.step(env.action_space.sample())"
   ]
  },
  {
   "cell_type": "markdown",
   "metadata": {},
   "source": [
    "# Character Retargeting\n",
    "\n",
    "Works by just modifying the translations of a given skeleton! It doesn't do anything with the rotations. So as long as the coordinate frames of my mocap data isn't defined stupidly (which it is from memory) I can take the difference in angle and angular speed between my mocap frames and the agent as the reward - done!\n",
    "\n",
    "Assuming I can get the same info from the osim model... I feel like I might be able to though, with a bit of bother"
   ]
  },
  {
   "cell_type": "code",
   "execution_count": 22,
   "metadata": {},
   "outputs": [
    {
     "name": "stdout",
     "output_type": "stream",
     "text": [
      "lwaist\n",
      "[[ 0.98949771 -0.14134945  0.03024265]\n",
      " [ 0.14125212  0.98995924  0.00534178]\n",
      " [-0.03069405 -0.00101384  0.99952831]] (-0.001014314044950608, 0.0306988692458321, 0.14179336148819954)\n",
      "pelvis\n",
      "[[ 0.98961076 -0.13851554  0.03852253]\n",
      " [ 0.14127236  0.98659745 -0.08165529]\n",
      " [-0.0266957   0.08624913  0.99591587]] (0.08638728254982476, 0.02669887644658496, 0.14179742017413796)\n",
      "right_thigh\n",
      "[[ 0.99368498 -0.09179042 -0.06453428]\n",
      " [ 0.08853724  0.99473613 -0.05158679]\n",
      " [ 0.06892975  0.04554733  0.99658122]] (0.04567180280593196, -0.0689844540475414, 0.08886524679310961)\n",
      "right_shin\n",
      "[[ 0.99119654 -0.09179042 -0.09541453]\n",
      " [ 0.08688964  0.99473613 -0.05431604]\n",
      " [ 0.09989797  0.04554733  0.99395464]] (0.04579232444602329, -0.100064876438649, 0.08743784475960822)\n",
      "right_foot\n",
      "[[ 0.99119654 -0.09179042 -0.09541453]\n",
      " [ 0.08688964  0.99473613 -0.05431604]\n",
      " [ 0.09989797  0.04554733  0.99395464]] (0.04579232444602329, -0.100064876438649, 0.08743784475960822)\n",
      "left_thigh\n",
      "[[ 0.98264338 -0.16988206 -0.0745122 ]\n",
      " [ 0.15452538  0.97184172 -0.17789202]\n",
      " [ 0.10263473  0.16329039  0.98122493]] (0.16490365016512415, -0.10281577871934058, 0.1559774399522467)\n",
      "left_shin\n",
      "[[ 0.97519083 -0.16988206 -0.14192576]\n",
      " [ 0.1419233   0.97184172 -0.18809956]\n",
      " [ 0.16988412  0.16329039  0.97184136]] (0.16646675264304592, -0.17071207475995315, 0.14451926011744645)\n",
      "left_foot\n",
      "[[ 0.97519083 -0.16988206 -0.14192576]\n",
      " [ 0.1419233   0.97184172 -0.18809956]\n",
      " [ 0.16988412  0.16329039  0.97184136]] (0.16646675264304592, -0.17071207475995315, 0.14451926011744645)\n",
      "right_upper_arm\n",
      "[[ 9.77974122e-01 -2.01108930e-01 -5.58732042e-02]\n",
      " [ 2.00775156e-01  9.79568878e-01 -1.15823219e-02]\n",
      " [ 5.70609603e-02  1.09259767e-04  9.98370690e-01]] (0.00010943807477366344, -0.05709197039223711, 0.20248360507746163)\n",
      "right_lower_arm\n",
      "[[ 0.98531189 -0.16909007 -0.02385435]\n",
      " [ 0.16900504  0.98559955 -0.00555165]\n",
      " [ 0.02444956  0.0014386   0.99970003]] (0.001439029960315088, -0.02445200073715997, 0.1698713704425609)\n",
      "left_upper_arm\n",
      "[[ 0.99354887 -0.10934558 -0.0300696 ]\n",
      " [ 0.11067354  0.99275618  0.04676046]\n",
      " [ 0.02473873 -0.04978671  0.99845344]] (-0.049822560694832735, -0.02474125699186714, 0.11093481533980068)\n",
      "left_lower_arm\n",
      "[[ 0.98985991 -0.14202306  0.00260788]\n",
      " [ 0.14170787  0.98859809  0.05091855]\n",
      " [-0.00980975 -0.05003267  0.9986994 ]] (-0.05005597851183785, 0.009809909182013098, 0.14219336680911182)\n"
     ]
    },
    {
     "data": {
      "image/png": "[encoded data removed]",
      "text/plain": [
       "<Figure size 432x288 with 1 Axes>"
      ]
     },
     "metadata": {},
     "output_type": "display_data"
    }
   ],
   "source": [
    "robot = env.env.mjcf[0]\n",
    "\n",
    "robot.root_part.pose().quatertion()\n",
    "\n",
    "\n",
    "plt.figure()\n",
    "\n",
    "for part in filter(lambda x: 'link' not in x.name, robot.parts):\n",
    "    print(part.name)\n",
    "    pose = part.pose()\n",
    "    \n",
    "    q = part.pose().quatertion()\n",
    "    q = Quaternion(q[3],q[0],q[1],q[2])\n",
    "    R = q.rotation_matrix\n",
    "    \n",
    "    print(R, part.pose().rpy())\n",
    "    \n",
    "    # I want the x unit vector in the y z plane, that's the 2nd and 3rd elements of the first column of the rotation matrix\n",
    "    \n",
    "    plt.quiver(pose.xyz()[1], pose.xyz()[2], R[1,0], R[2,0], units='width')\n",
    "    \n",
    "plt.show()"
   ]
  },
  {
   "cell_type": "code",
   "execution_count": 146,
   "metadata": {},
   "outputs": [
    {
     "name": "stdout",
     "output_type": "stream",
     "text": [
      "0.997 -0.001i +0.000j -0.081k\n"
     ]
    },
    {
     "data": {
      "text/plain": [
       "array([[ 9.86994234e-01,  1.60754577e-01,  5.90363268e-04],\n",
       "       [-1.60755534e-01,  9.86991420e-01,  2.36552744e-03],\n",
       "       [-2.02414117e-04, -2.42966610e-03,  9.99997028e-01]])"
      ]
     },
     "execution_count": 146,
     "metadata": {},
     "output_type": "execute_result"
    }
   ],
   "source": [
    "rotation = np.eye(3)\n",
    "transformation = np.eye(4)\n",
    "q8d = Quaternion(matrix=rotation) # Using 3x3 rotation matrix\n",
    "q8d = Quaternion(matrix=transformation) # Using 4x4 transformation matrix\n",
    "\n",
    "q_in = part.pose().quatertion()\n",
    "q = Quaternion(q_in[3],q_in[0],q_in[1],q_in[2])\n",
    "\n",
    "print(q)\n",
    "\n",
    "q.rotation_matrix"
   ]
  },
  {
   "cell_type": "code",
   "execution_count": 1,
   "metadata": {},
   "outputs": [
    {
     "ename": "NameError",
     "evalue": "name 'env' is not defined",
     "output_type": "error",
     "traceback": [
      "\u001b[0;31m---------------------------------------------------------------------------\u001b[0m",
      "\u001b[0;31mNameError\u001b[0m                                 Traceback (most recent call last)",
      "\u001b[0;32m<ipython-input-1-ff48815f8bc3>\u001b[0m in \u001b[0;36m<module>\u001b[0;34m()\u001b[0m\n\u001b[0;32m----> 1\u001b[0;31m \u001b[0;32mfor\u001b[0m \u001b[0mj\u001b[0m \u001b[0;32min\u001b[0m \u001b[0menv\u001b[0m\u001b[0;34m.\u001b[0m\u001b[0menv\u001b[0m\u001b[0;34m.\u001b[0m\u001b[0mordered_joints\u001b[0m\u001b[0;34m:\u001b[0m\u001b[0;34m\u001b[0m\u001b[0m\n\u001b[0m\u001b[1;32m      2\u001b[0m     \u001b[0mprint\u001b[0m \u001b[0;34m(\u001b[0m\u001b[0mj\u001b[0m\u001b[0;34m.\u001b[0m\u001b[0mname\u001b[0m\u001b[0;34m,\u001b[0m \u001b[0mj\u001b[0m\u001b[0;34m.\u001b[0m\u001b[0mreset_current_position\u001b[0m\u001b[0;34m(\u001b[0m\u001b[0;34m)\u001b[0m\u001b[0;34m)\u001b[0m\u001b[0;34m\u001b[0m\u001b[0m\n",
      "\u001b[0;31mNameError\u001b[0m: name 'env' is not defined"
     ]
    }
   ],
   "source": [
    "for j in env.env.ordered_joints:\n",
    "    print (j.name, j.reset_current_position())"
   ]
  }
 ],
 "metadata": {
  "kernelspec": {
   "display_name": "Python (roboschool)",
   "language": "python",
   "name": "roboschool"
  },
  "language_info": {
   "codemirror_mode": {
    "name": "ipython",
    "version": 3
   },
   "file_extension": ".py",
   "mimetype": "text/x-python",
   "name": "python",
   "nbconvert_exporter": "python",
   "pygments_lexer": "ipython3",
   "version": "3.5.5"
  }
 },
 "nbformat": 4,
 "nbformat_minor": 2
}
